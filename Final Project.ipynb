{
 "cells": [
  {
   "cell_type": "markdown",
   "metadata": {},
   "source": [
    "# Data 604 Final Project\n",
    "\n",
    "The inspiration for this simulation comes from a mountain town about an hour away from where I live in California. There are two seasons where they have an influx of tourists: Summer and Winter. Summer for the lake and winter for skiing on the mountain.\n",
    "\n",
    "Whenever I would visit, all the restaraunts seemed understaffed to handle the influx of tourists. I want to find out given certain parameters what is the optimal number of waiters to flip the most revenue. One obstacle a lot of these restaurants face is that labor is hard to come by since there aren't many locals there year around. So we want to find the lowest number possible. "
   ]
  },
  {
   "cell_type": "code",
   "execution_count": 264,
   "metadata": {},
   "outputs": [],
   "source": [
    "import random\n",
    "from modsim import *\n",
    "import pint"
   ]
  },
  {
   "cell_type": "markdown",
   "metadata": {},
   "source": [
    "### Parameters\n",
    "\n",
    "Below are the parameters in our system. Most of them are estimates or averages I looked up online (E.g. that a waiter handles 3 tables at a time). For every 2 waiters there needs to be 1 bus boy. Capacity is the total number of tables a restaurant has. There is a list called \"tables\" that we will use to sit people down and remove them when they are done eating. The time variables are measured in minutes."
   ]
  },
  {
   "cell_type": "code",
   "execution_count": 369,
   "metadata": {},
   "outputs": [],
   "source": [
    "restaurant = System(\n",
    "    t_0 = 0,\n",
    "    t_end = 720,\n",
    "    waiter_num = 4,\n",
    "    bus_boy_num = 2,\n",
    "    table_per_server = 3,\n",
    "    capacity = 60,\n",
    "    waiter_salary = 15,\n",
    "    bus_boy_salary = 12,\n",
    "    queue = 0,\n",
    "    table_revenue = 100,\n",
    "    total_revenue = 0,\n",
    "    left_customers = 0,\n",
    "    tables = []\n",
    ")"
   ]
  },
  {
   "cell_type": "markdown",
   "metadata": {},
   "source": [
    "### Add to queue\n",
    "\n",
    "This function checks what time of day it is and adds a random number of people in the queue. If it's peak hours the random number is higher."
   ]
  },
  {
   "cell_type": "code",
   "execution_count": 395,
   "metadata": {},
   "outputs": [],
   "source": [
    "def add_to_queue(time):\n",
    "    if (time >= 60 and time <= 180) or (time >= 360 and time <= 540):\n",
    "        restaurant.queue = restaurant.queue + random.randint(8,10)\n",
    "    else:\n",
    "        restaurant.queue = restaurant.queue + random.randint(3,4)"
   ]
  },
  {
   "cell_type": "markdown",
   "metadata": {},
   "source": [
    "### Help Tables\n",
    "\n",
    "When someone is sat down at a table they are marked as a \"1\" in the tables list. For example [1,1,1,1] would be four people sitting down at the table. Each loop in the simulation will be in 15 min intervals. I'm making the assumption that a waiter has to visit a table 6 times before they get their check and leave. That means without any interuptions a party will stay for 1 hr 30 minutes. But, if the there are more people seated than the waiters can handle a particular table might not be helped in the 15 minutes interval. Making them stay longer.\n",
    "\n",
    "The function below checks how many waiters there are and increments the people seated by 1. If the waiters are understaffed they help [number of waters] * [tables per waiter] at random."
   ]
  },
  {
   "cell_type": "code",
   "execution_count": 396,
   "metadata": {},
   "outputs": [],
   "source": [
    "def help_tables(tables, num_servers, table_per_server):\n",
    "    \n",
    "    tables_helped = num_servers*table_per_server\n",
    "   \n",
    "    if tables_helped >= len(tables):\n",
    "        tables = [x + 1 for x in tables]\n",
    "        restaurant.tables = tables\n",
    "    else:\n",
    "        random.shuffle(tables)\n",
    "        tables1 = tables[0:tables_helped]\n",
    "        tables2 = tables[tables_helped:len(tables)]\n",
    "        \n",
    "        tables1 = [x + 1 for x in tables1]\n",
    "        tables = tables1 +tables2\n",
    "        restaurant.tables = tables"
   ]
  },
  {
   "cell_type": "markdown",
   "metadata": {},
   "source": [
    "### Add to Tables\n",
    "\n",
    "This function checks the queue and capacity to add people to tables accordingly"
   ]
  },
  {
   "cell_type": "code",
   "execution_count": 397,
   "metadata": {},
   "outputs": [],
   "source": [
    "def add_to_tables(tables, queue):\n",
    "    tables_left = restaurant.capacity - len(tables) \n",
    "    \n",
    "    if tables_left > queue:\n",
    "        added_tables = [1] * queue\n",
    "        restaurant.queue = 0\n",
    "        restaurant.tables = tables + added_tables\n",
    "    else:\n",
    "        added_tables = [1] * tables_left\n",
    "        restaurant.queue = queue - tables_left\n",
    "        restaurant.tables = tables + added_tables\n",
    "        "
   ]
  },
  {
   "cell_type": "markdown",
   "metadata": {},
   "source": [
    "### Leave Tables\n",
    "\n",
    "Once someone has been helped 6 times they are removed from the table to clear up capacity"
   ]
  },
  {
   "cell_type": "code",
   "execution_count": 398,
   "metadata": {},
   "outputs": [],
   "source": [
    "def leave_tables(tables):\n",
    "    restaurant.total_revenue = restaurant.total_revenue + len([value for value in tables if value == 6]) * restaurant.table_revenue\n",
    "    return [value for value in tables if value != 6]"
   ]
  },
  {
   "cell_type": "markdown",
   "metadata": {},
   "source": [
    "### Run Simulation\n",
    "\n",
    "This wraps all the functions together and loops through 1 day given the parameters"
   ]
  },
  {
   "cell_type": "code",
   "execution_count": 406,
   "metadata": {},
   "outputs": [],
   "source": [
    "def run_simulation(restaurant):\n",
    "    for i in range(restaurant.t_0,restaurant.t_end+1,15):\n",
    "        add_to_queue(i)\n",
    "\n",
    "        if restaurant.queue > 20:\n",
    "            restaurant.left_customers = restaurant.left_customers + (restaurant.queue - 10)\n",
    "            restaurant.queue = 20\n",
    "\n",
    "        help_tables(restaurant.tables, restaurant.waiter_num, restaurant.table_per_server)\n",
    "\n",
    "        add_to_tables(restaurant.tables, restaurant.queue)\n",
    "\n",
    "        restaurant.tables = leave_tables(restaurant.tables)\n",
    "    \n",
    "    return restaurant"
   ]
  },
  {
   "cell_type": "markdown",
   "metadata": {},
   "source": [
    "### Iterate through number of servers\n",
    "\n",
    "This runs the simulation with different server counts to see which produces the most revenue"
   ]
  },
  {
   "cell_type": "code",
   "execution_count": 408,
   "metadata": {},
   "outputs": [],
   "source": [
    "total_revenue = SweepSeries()\n",
    "net_revenue = SweepSeries()\n",
    "\n",
    "for i in range(2, 20):\n",
    "    restaurant = System(\n",
    "        t_0 = 0,\n",
    "        t_end = 720,\n",
    "        waiter_num = i,\n",
    "        bus_boy_num = int(i/2),\n",
    "        table_per_server = 3,\n",
    "        capacity = 60,\n",
    "        waiter_salary = 15,\n",
    "        bus_boy_salary = 12,\n",
    "        queue = 0,\n",
    "        table_revenue = 100,\n",
    "        total_revenue = 0,\n",
    "        left_customers = 0,\n",
    "        tables = []\n",
    "    )\n",
    "    \n",
    "    run_simulation(restaurant)\n",
    "    \n",
    "    total_revenue[restaurant.waiter_num] = restaurant.total_revenue\n",
    "    net_revenue[restaurant.waiter_num] = restaurant.total_revenue - (restaurant.waiter_num * restaurant.waiter_salary * 11) - (restaurant.bus_boy_num * restaurant.bus_boy_salary * 11)"
   ]
  },
  {
   "cell_type": "markdown",
   "metadata": {},
   "source": [
    "### Results\n",
    "\n",
    "As we increase the number of servers we can see almost a linear increase in revenue until we hit around 10 servers. The net revenue gives a better look, because when we hit around 10 servers the net revenue almost flattens. So, given our parameters are realistic I would have 10 servers on pay roll going into peak season."
   ]
  },
  {
   "cell_type": "code",
   "execution_count": 413,
   "metadata": {},
   "outputs": [
    {
     "data": {
      "image/png": "[encoded data removed]",
      "text/plain": [
       "<Figure size 432x288 with 1 Axes>"
      ]
     },
     "metadata": {
      "needs_background": "light"
     },
     "output_type": "display_data"
    }
   ],
   "source": [
    "total_revenue.plot(color='C2')\n",
    "\n",
    "decorate(xlabel='Number of Servers',\n",
    "         ylabel='Total Revenue',\n",
    "         title='Number of Servers vs. Total Revenue')"
   ]
  },
  {
   "cell_type": "code",
   "execution_count": 415,
   "metadata": {},
   "outputs": [
    {
     "data": {
      "image/png": "[encoded data removed]",
      "text/plain": [
       "<Figure size 432x288 with 1 Axes>"
      ]
     },
     "metadata": {
      "needs_background": "light"
     },
     "output_type": "display_data"
    }
   ],
   "source": [
    "net_revenue.plot(color='C2')\n",
    "\n",
    "decorate(xlabel='Number of Servers',\n",
    "         ylabel='Net Revenue',\n",
    "         title='Net of Servers vs. Net Revenue')"
   ]
  },
  {
   "cell_type": "code",
   "execution_count": null,
   "metadata": {},
   "outputs": [],
   "source": []
  }
 ],
 "metadata": {
  "kernelspec": {
   "display_name": "Python 3",
   "language": "python",
   "name": "python3"
  },
  "language_info": {
   "codemirror_mode": {
    "name": "ipython",
    "version": 3
   },
   "file_extension": ".py",
   "mimetype": "text/x-python",
   "name": "python",
   "nbconvert_exporter": "python",
   "pygments_lexer": "ipython3",
   "version": "3.7.5"
  }
 },
 "nbformat": 4,
 "nbformat_minor": 2
}
