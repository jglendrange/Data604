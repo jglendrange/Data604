{
 "cells": [
  {
   "cell_type": "code",
   "execution_count": 29,
   "metadata": {},
   "outputs": [],
   "source": [
    "import random\n",
    "from matplotlib import pyplot as plt\n",
    "import pandas as pd"
   ]
  },
  {
   "cell_type": "code",
   "execution_count": 22,
   "metadata": {},
   "outputs": [],
   "source": [
    "sim_count = 10000\n",
    "\n",
    "all_rolls = []\n",
    "total_count = []\n",
    "\n",
    "for i in range(0, sim_count):\n",
    "    dice1 = random.randint(1,6)\n",
    "    dice2 = random.randint(1,6)\n",
    "    \n",
    "    result = str(dice1) + \", \" + str(dice2)\n",
    "\n",
    "    all_rolls.append(result)\n",
    "    total_count.append(dice1 + dice2)"
   ]
  },
  {
   "cell_type": "code",
   "execution_count": 27,
   "metadata": {},
   "outputs": [
    {
     "data": {
      "text/plain": [
       "(array([ 262.,  572.,  792., 1130., 1363., 1712., 1425., 1155.,  778.,\n",
       "         811.]),\n",
       " array([ 2.,  3.,  4.,  5.,  6.,  7.,  8.,  9., 10., 11., 12.]),\n",
       " <a list of 10 Patch objects>)"
      ]
     },
     "execution_count": 27,
     "metadata": {},
     "output_type": "execute_result"
    },
    {
     "data": {
      "image/png": "[encoded data removed]",
      "text/plain": [
       "<Figure size 432x288 with 1 Axes>"
      ]
     },
     "metadata": {
      "needs_background": "light"
     },
     "output_type": "display_data"
    }
   ],
   "source": [
    "plt.hist(total_count)"
   ]
  },
  {
   "cell_type": "code",
   "execution_count": 50,
   "metadata": {},
   "outputs": [],
   "source": [
    "rolls = pd.DataFrame({'roll':all_rolls})\n",
    "\n",
    "rolls['count'] = 1\n",
    "\n",
    "rolls_agg = rolls.groupby('roll').count().reset_index()\n",
    "\n",
    "rolls_agg['percent_dist'] = rolls_agg['count'] / sim_count"
   ]
  },
  {
   "cell_type": "code",
   "execution_count": 51,
   "metadata": {},
   "outputs": [
    {
     "name": "stdout",
     "output_type": "stream",
     "text": [
      "    roll  count  percent_dist\n",
      "0   1, 1    262        0.0262\n",
      "1   1, 2    287        0.0287\n",
      "2   1, 3    268        0.0268\n",
      "3   1, 4    282        0.0282\n",
      "4   1, 5    272        0.0272\n",
      "5   1, 6    262        0.0262\n",
      "6   2, 1    285        0.0285\n",
      "7   2, 2    258        0.0258\n",
      "8   2, 3    302        0.0302\n",
      "9   2, 4    286        0.0286\n",
      "10  2, 5    292        0.0292\n",
      "11  2, 6    310        0.0310\n",
      "12  3, 1    266        0.0266\n",
      "13  3, 2    282        0.0282\n",
      "14  3, 3    257        0.0257\n",
      "15  3, 4    278        0.0278\n",
      "16  3, 5    277        0.0277\n",
      "17  3, 6    285        0.0285\n",
      "18  4, 1    264        0.0264\n",
      "19  4, 2    256        0.0256\n",
      "20  4, 3    268        0.0268\n",
      "21  4, 4    258        0.0258\n",
      "22  4, 5    268        0.0268\n",
      "23  4, 6    266        0.0266\n",
      "24  5, 1    292        0.0292\n",
      "25  5, 2    307        0.0307\n",
      "26  5, 3    277        0.0277\n",
      "27  5, 4    283        0.0283\n",
      "28  5, 5    256        0.0256\n",
      "29  5, 6    257        0.0257\n",
      "30  6, 1    305        0.0305\n",
      "31  6, 2    303        0.0303\n",
      "32  6, 3    319        0.0319\n",
      "33  6, 4    256        0.0256\n",
      "34  6, 5    294        0.0294\n",
      "35  6, 6    260        0.0260\n"
     ]
    }
   ],
   "source": [
    "print(rolls_agg)"
   ]
  }
 ],
 "metadata": {
  "kernelspec": {
   "display_name": "Python 3",
   "language": "python",
   "name": "python3"
  },
  "language_info": {
   "codemirror_mode": {
    "name": "ipython",
    "version": 3
   },
   "file_extension": ".py",
   "mimetype": "text/x-python",
   "name": "python",
   "nbconvert_exporter": "python",
   "pygments_lexer": "ipython3",
   "version": "3.7.5"
  }
 },
 "nbformat": 4,
 "nbformat_minor": 2
}
